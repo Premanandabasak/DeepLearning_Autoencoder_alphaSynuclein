{
 "cells": [
  {
   "cell_type": "code",
   "execution_count": 1,
   "id": "56ed0f1e",
   "metadata": {},
   "outputs": [],
   "source": [
    "import numpy as np\n",
    "import pandas as pd\n",
    "import matplotlib.pyplot as plt\n",
    "import random\n",
    "from sklearn.neural_network import MLPRegressor\n",
    "from sklearn.neural_network import MLPClassifier\n",
    "from sklearn.metrics import accuracy_score"
   ]
  },
  {
   "cell_type": "code",
   "execution_count": 2,
   "id": "ccae0756",
   "metadata": {},
   "outputs": [
    {
     "name": "stdout",
     "output_type": "stream",
     "text": [
      "        43- 44     43- 45     43- 46     43- 47     43- 48     43- 49  \\\n",
      "0     7.490925  10.268282  12.287569  13.505573  16.326519  19.939466   \n",
      "1     7.457210  10.063990  11.505801  12.999414  15.938043  19.324521   \n",
      "2     7.334167  10.001434  12.160843  13.071632  16.132785  19.587565   \n",
      "3     7.044893   9.941067  12.200315  13.345710  15.951247  19.570662   \n",
      "4     7.356205  10.140405  12.255595  13.492433  16.247104  19.769529   \n",
      "...        ...        ...        ...        ...        ...        ...   \n",
      "7496  9.089426  11.516980  13.310863  14.314604  16.154805  19.754604   \n",
      "7497  8.647725  11.566196  13.553024  13.906206  16.086097  19.593865   \n",
      "7498  8.891657  11.694927  13.366809  13.832182  16.208959  19.743556   \n",
      "7499  8.183644  11.219912  12.969153  13.735788  16.358750  20.036826   \n",
      "7500  8.367362  11.632998  13.551137  14.028470  16.637116  20.373993   \n",
      "\n",
      "         43- 50     43- 51     43- 52     43- 53  ...    79- 80    79- 81  \\\n",
      "0     22.204027  25.972102  26.242770  30.039631  ...  6.303148  8.250695   \n",
      "1     21.754910  25.543081  26.585746  30.321789  ...  6.046442  8.136259   \n",
      "2     21.833802  25.374831  26.659924  30.354681  ...  6.056944  8.097523   \n",
      "3     21.933211  25.526022  26.740179  30.569166  ...  6.181755  8.306718   \n",
      "4     22.122136  25.811796  26.681066  30.510538  ...  6.009987  8.194113   \n",
      "...         ...        ...        ...        ...  ...       ...       ...   \n",
      "7496  21.175002  24.818535  26.238339  29.879655  ...  6.242102  8.040358   \n",
      "7497  21.524735  25.331549  26.648531  30.451427  ...  6.104684  8.057695   \n",
      "7498  21.552854  25.225249  26.286328  30.038387  ...  5.906159  7.801988   \n",
      "7499  21.868840  25.569474  26.324981  30.105638  ...  6.090924  7.908328   \n",
      "7500  21.759368  25.351003  26.504407  30.322838  ...  6.112140  7.944271   \n",
      "\n",
      "         79- 82     79- 83    80- 81    80- 82     80- 83    81- 82  \\\n",
      "0     11.860100  14.999803  6.164306  9.198329  12.698042  7.227940   \n",
      "1     11.633467  15.011832  6.151355  8.984292  12.690888  7.004535   \n",
      "2     11.513781  14.656213  6.097749  8.794978  12.360012  7.237213   \n",
      "3     11.696760  14.819628  6.099348  8.771827  12.297036  6.741982   \n",
      "4     11.567556  14.882023  6.382211  8.889965  12.577437  6.924841   \n",
      "...         ...        ...       ...       ...        ...       ...   \n",
      "7496  10.829738  14.562514  6.443774  8.291201  12.146949  7.749661   \n",
      "7497  10.828082  14.355062  6.696341  8.389227  12.140649  7.980464   \n",
      "7498  10.051621  13.723969  6.815124  7.745566  11.377432  7.236681   \n",
      "7499  10.778517  14.332449  6.047185  7.841432  11.595334  6.975620   \n",
      "7500  10.543454  14.240560  6.289019  7.678821  11.544938  6.554959   \n",
      "\n",
      "         81- 83     82- 83  \n",
      "0     10.777015  13.603584  \n",
      "1     10.857721  13.583128  \n",
      "2     10.973810  13.874869  \n",
      "3     10.414029  13.173614  \n",
      "4     10.685492  13.290714  \n",
      "...         ...        ...  \n",
      "7496  11.462922  14.882891  \n",
      "7497  11.728614  15.181930  \n",
      "7498  10.619300  14.103397  \n",
      "7499  10.578276  13.826385  \n",
      "7500  10.270087  13.602843  \n",
      "\n",
      "[7501 rows x 820 columns]\n"
     ]
    }
   ],
   "source": [
    "df = pd.read_csv('wt_distag.csv', sep=',')\n",
    "print(df)"
   ]
  },
  {
   "cell_type": "code",
   "execution_count": 3,
   "id": "5d521df0",
   "metadata": {},
   "outputs": [],
   "source": [
    "from sklearn.model_selection import train_test_split\n",
    "train, test = train_test_split(df, test_size=0.2,random_state=10)"
   ]
  },
  {
   "cell_type": "code",
   "execution_count": 4,
   "id": "a7725ca6",
   "metadata": {},
   "outputs": [
    {
     "name": "stdout",
     "output_type": "stream",
     "text": [
      "         43- 44     43- 45     43- 46     43- 47     43- 48     43- 49  \\\n",
      "1735  11.121560  11.808367  14.025112  14.030371  15.061586  18.392513   \n",
      "3501   8.993121  11.799458  13.930382  14.693241  16.824714  20.143422   \n",
      "5902   6.389323   9.491105  12.187637  13.085239  16.086532  19.441639   \n",
      "2961   8.083275  10.529688  13.032198  14.107719  16.143441  19.433588   \n",
      "2537   8.935198  11.365799  13.435427  13.429021  15.608773  18.970122   \n",
      "...         ...        ...        ...        ...        ...        ...   \n",
      "3441   9.059329  11.662911  13.688113  13.991157  16.488582  19.755758   \n",
      "1344  11.293807  11.401715  13.357671  13.325208  15.420302  18.744932   \n",
      "4623   5.822361   8.791378  12.079279  13.188205  15.810953  19.219092   \n",
      "7293   8.923319  11.821527  13.700376  13.902997  16.300342  19.571395   \n",
      "1289  12.207222  12.423235  13.798627  13.969263  15.299787  18.613189   \n",
      "\n",
      "         43- 50     43- 51     43- 52     43- 53  ...    79- 80    79- 81  \\\n",
      "1735  19.676623  22.972645  24.488437  28.222294  ...  6.318092  8.545968   \n",
      "3501  22.270705  25.200661  26.806784  30.600118  ...  5.991598  8.250950   \n",
      "5902  21.887101  25.520915  26.295003  29.943450  ...  7.074240  9.626627   \n",
      "2961  21.524793  24.986306  26.389225  30.218591  ...  6.211756  8.632599   \n",
      "2537  20.361233  23.474757  25.188321  28.937536  ...  6.502223  8.466539   \n",
      "...         ...        ...        ...        ...  ...       ...       ...   \n",
      "3441  21.434126  25.037831  26.157616  29.934760  ...  6.458550  8.491534   \n",
      "1344  20.480098  24.114407  24.940840  28.742157  ...  6.396473  8.555436   \n",
      "4623  21.419859  24.799597  25.893937  29.710742  ...  6.321507  7.608881   \n",
      "7293  21.068660  24.546433  25.909719  29.602186  ...  6.050487  8.274312   \n",
      "1289  20.294752  23.729280  25.144143  28.834258  ...  6.263030  8.467070   \n",
      "\n",
      "         79- 82     79- 83    80- 81    80- 82     80- 83    81- 82  \\\n",
      "1735  12.161177  15.341117  6.128695  9.324664  12.902904  7.128133   \n",
      "3501  11.832877  14.889370  6.538050  9.462183  12.836580  7.083437   \n",
      "5902  12.541877  15.681458  7.905204  9.968720  13.160944  9.030855   \n",
      "2961  11.844756  15.127587  6.669611  8.955827  12.547206  6.830655   \n",
      "2537  11.809110  15.180800  6.486610  9.020756  12.683899  6.835109   \n",
      "...         ...        ...       ...       ...        ...       ...   \n",
      "3441  12.207619  15.050028  6.702103  9.831484  13.156776  7.731465   \n",
      "1344  12.103255  15.087122  6.714952  9.703409  12.914946  7.011072   \n",
      "4623  11.120703  13.712627  5.337224  8.413339  11.629233  6.599883   \n",
      "7293  11.094124  14.566615  6.556086  8.494263  12.119830  6.927743   \n",
      "1289  11.948836  15.242411  6.295436  9.251741  12.905485  6.779487   \n",
      "\n",
      "         81- 83     82- 83  \n",
      "1735  10.720413  13.116445  \n",
      "3501  10.884737  12.429628  \n",
      "5902  12.299137  15.425220  \n",
      "2961  10.331355  13.035041  \n",
      "2537  10.472751  13.251686  \n",
      "...         ...        ...  \n",
      "3441  10.993512  13.511722  \n",
      "1344  10.660591  12.678263  \n",
      "4623  10.221359  13.339995  \n",
      "7293  10.653406  13.890420  \n",
      "1289  10.414106  12.634099  \n",
      "\n",
      "[6000 rows x 820 columns]\n"
     ]
    }
   ],
   "source": [
    "print(train)"
   ]
  },
  {
   "cell_type": "code",
   "execution_count": 5,
   "id": "d5f276e9",
   "metadata": {},
   "outputs": [
    {
     "name": "stdout",
     "output_type": "stream",
     "text": [
      "         43- 44     43- 45     43- 46     43- 47     43- 48     43- 49  \\\n",
      "4985  10.030455  11.970993  13.728400  13.850033  16.171931  19.607096   \n",
      "1852  10.397691  12.691557  14.009173  13.753274  15.819964  19.019565   \n",
      "66     7.789326   9.543334  11.484963  12.983015  16.312418  19.386653   \n",
      "216    9.754626  11.026872  12.998916  13.317906  15.486739  18.762077   \n",
      "5912   5.587422   8.435231  11.161437  12.287437  15.487762  18.896338   \n",
      "...         ...        ...        ...        ...        ...        ...   \n",
      "6742   9.560837  12.294714  14.666327  14.676384  17.130215  20.184168   \n",
      "2821   9.627440  11.688935  13.931393  14.072988  15.493367  18.738846   \n",
      "6865  10.252190  13.025259  14.758542  14.052992  16.319090  19.300735   \n",
      "48     7.426661   9.704574  12.154137  13.011596  15.776366  19.273981   \n",
      "5256   7.778860   9.916594  12.089869  13.193582  15.828331  19.395390   \n",
      "\n",
      "         43- 50     43- 51     43- 52     43- 53  ...    79- 80    79- 81  \\\n",
      "4985  21.363829  24.993219  26.653309  30.339923  ...  5.805722  8.007574   \n",
      "1852  20.922731  24.302357  26.044988  29.574771  ...  6.219573  8.314039   \n",
      "66    22.016275  25.496765  26.403427  30.278662  ...  6.312652  8.400565   \n",
      "216   20.925528  24.425855  25.707996  29.344078  ...  6.293057  8.417634   \n",
      "5912  21.552048  25.350121  26.072173  29.889816  ...  6.688806  9.229525   \n",
      "...         ...        ...        ...        ...  ...       ...       ...   \n",
      "6742  21.697720  25.159480  26.215403  29.951756  ...  6.707223  9.385798   \n",
      "2821  20.512498  23.770205  25.582891  29.090899  ...  6.393227  8.857990   \n",
      "6865  21.298170  24.568950  25.293577  28.913033  ...  6.462484  9.598854   \n",
      "48    21.169112  24.962014  25.743720  29.600902  ...  6.308361  8.211578   \n",
      "5256  21.514832  25.049362  26.185517  30.016139  ...  5.699220  7.594194   \n",
      "\n",
      "         79- 82     79- 83    80- 81     80- 82     80- 83    81- 82  \\\n",
      "4985  11.807091  14.221200  6.141612   9.580934  12.593216  8.636112   \n",
      "1852  12.026849  15.423787  5.900563   9.052481  12.720211  7.233013   \n",
      "66    12.062893  15.189756  5.676382   8.852633  12.329000  7.318796   \n",
      "216   11.683293  15.007497  6.152661   8.617133  12.235507  6.907833   \n",
      "5912  12.601022  15.889233  7.403080  10.098369  13.523412  9.494400   \n",
      "...         ...        ...       ...        ...        ...       ...   \n",
      "6742  11.939428  15.322508  7.620604   9.165022  12.686361  8.193381   \n",
      "2821  12.345434  15.655131  6.788746   9.630554  13.289319  8.023102   \n",
      "6865  12.199450  15.775328  8.167930   9.800670  13.635181  8.929864   \n",
      "48    11.840664  14.949112  5.531559   8.649127  12.061620  7.162258   \n",
      "5256  10.945253  14.489016  5.976035   8.426190  12.172673  6.720355   \n",
      "\n",
      "         81- 83     82- 83  \n",
      "4985  12.260648  15.714438  \n",
      "1852  10.591397  12.790680  \n",
      "66    10.735224  12.824815  \n",
      "216   10.450207  13.104664  \n",
      "5912  13.112009  16.434963  \n",
      "...         ...        ...  \n",
      "6742  11.907879  13.715767  \n",
      "2821  11.860056  15.138417  \n",
      "6865  12.527363  15.256185  \n",
      "48    10.335427  12.708310  \n",
      "5256  10.039445  12.754306  \n",
      "\n",
      "[1501 rows x 820 columns]\n"
     ]
    }
   ],
   "source": [
    "print(test)"
   ]
  },
  {
   "cell_type": "code",
   "execution_count": 6,
   "id": "db53ff47",
   "metadata": {},
   "outputs": [
    {
     "name": "stdout",
     "output_type": "stream",
     "text": [
      "Iteration 1, loss = 213.80612016\n",
      "Iteration 2, loss = 21.20463198\n",
      "Iteration 3, loss = 0.65803176\n",
      "Iteration 4, loss = 0.13014531\n",
      "Iteration 5, loss = 0.10609704\n",
      "Iteration 6, loss = 0.10504871\n",
      "Iteration 7, loss = 0.10498416\n",
      "Iteration 8, loss = 0.10492594\n",
      "Iteration 9, loss = 0.10493486\n",
      "Iteration 10, loss = 0.10499720\n",
      "Iteration 11, loss = 0.10493835\n",
      "Iteration 12, loss = 0.10491231\n",
      "Iteration 13, loss = 0.10491028\n",
      "Iteration 14, loss = 0.10491883\n",
      "Iteration 15, loss = 0.10495500\n",
      "Iteration 16, loss = 0.10489146\n",
      "Iteration 17, loss = 0.10486264\n",
      "Iteration 18, loss = 0.10491957\n",
      "Iteration 19, loss = 0.10486081\n",
      "Iteration 20, loss = 0.10482022\n",
      "Iteration 21, loss = 0.10481067\n",
      "Iteration 22, loss = 0.10480331\n",
      "Iteration 23, loss = 0.10483194\n",
      "Iteration 24, loss = 0.10488216\n",
      "Iteration 25, loss = 0.10476874\n",
      "Iteration 26, loss = 0.10478512\n",
      "Iteration 27, loss = 0.10474629\n",
      "Iteration 28, loss = 0.10480621\n",
      "Iteration 29, loss = 0.10484580\n",
      "Iteration 30, loss = 0.10481571\n",
      "Iteration 31, loss = 0.10479258\n",
      "Iteration 32, loss = 0.10475207\n",
      "Iteration 33, loss = 0.10474442\n",
      "Iteration 34, loss = 0.10473140\n",
      "Iteration 35, loss = 0.10477013\n",
      "Iteration 36, loss = 0.10482565\n",
      "Iteration 37, loss = 0.10472091\n",
      "Iteration 38, loss = 0.10478143\n",
      "Iteration 39, loss = 0.10472274\n",
      "Iteration 40, loss = 0.10476933\n",
      "Iteration 41, loss = 0.10474966\n",
      "Iteration 42, loss = 0.10463047\n",
      "Iteration 43, loss = 0.10470407\n",
      "Iteration 44, loss = 0.10464999\n",
      "Iteration 45, loss = 0.10464599\n",
      "Iteration 46, loss = 0.10459500\n",
      "Iteration 47, loss = 0.10471732\n",
      "Iteration 48, loss = 0.10461764\n",
      "Iteration 49, loss = 0.10455717\n",
      "Iteration 50, loss = 0.10445757\n",
      "Iteration 51, loss = 0.10438631\n",
      "Iteration 52, loss = 0.10445872\n",
      "Iteration 53, loss = 0.10437697\n",
      "Iteration 54, loss = 0.10440097\n",
      "Iteration 55, loss = 0.10447821\n",
      "Iteration 56, loss = 0.10428540\n",
      "Iteration 57, loss = 0.10397765\n",
      "Iteration 58, loss = 0.10406411\n",
      "Iteration 59, loss = 0.10399131\n",
      "Iteration 60, loss = 0.10395026\n",
      "Iteration 61, loss = 0.10382376\n",
      "Iteration 62, loss = 0.10358815\n",
      "Iteration 63, loss = 0.10355939\n",
      "Iteration 64, loss = 0.10336487\n",
      "Iteration 65, loss = 0.10326919\n",
      "Iteration 66, loss = 0.10320166\n",
      "Iteration 67, loss = 0.10309275\n",
      "Iteration 68, loss = 0.10272029\n",
      "Iteration 69, loss = 0.10253293\n",
      "Iteration 70, loss = 0.10234667\n",
      "Iteration 71, loss = 0.10201600\n",
      "Iteration 72, loss = 0.10178000\n",
      "Iteration 73, loss = 0.10173415\n",
      "Iteration 74, loss = 0.10099583\n",
      "Iteration 75, loss = 0.10087110\n",
      "Iteration 76, loss = 0.10059337\n",
      "Iteration 77, loss = 0.10023791\n",
      "Iteration 78, loss = 0.09971985\n",
      "Iteration 79, loss = 0.09954914\n",
      "Iteration 80, loss = 0.09932443\n",
      "Iteration 81, loss = 0.09818500\n",
      "Iteration 82, loss = 0.09812953\n",
      "Iteration 83, loss = 0.09735887\n",
      "Iteration 84, loss = 0.09702717\n",
      "Iteration 85, loss = 0.09669732\n",
      "Iteration 86, loss = 0.09623517\n",
      "Iteration 87, loss = 0.09522347\n",
      "Iteration 88, loss = 0.09458118\n",
      "Iteration 89, loss = 0.09389445\n",
      "Iteration 90, loss = 0.09357173\n",
      "Iteration 91, loss = 0.09322481\n",
      "Iteration 92, loss = 0.09290452\n",
      "Iteration 93, loss = 0.09160995\n",
      "Iteration 94, loss = 0.09131657\n",
      "Iteration 95, loss = 0.09110984\n",
      "Iteration 96, loss = 0.09050141\n",
      "Iteration 97, loss = 0.08921032\n",
      "Iteration 98, loss = 0.08965834\n",
      "Iteration 99, loss = 0.08867655\n",
      "Iteration 100, loss = 0.08836693\n",
      "Iteration 101, loss = 0.08723722\n",
      "Iteration 102, loss = 0.08801048\n",
      "Iteration 103, loss = 0.08779026\n",
      "Iteration 104, loss = 0.08755501\n",
      "Iteration 105, loss = 0.08730151\n",
      "Iteration 106, loss = 0.08812350\n",
      "Iteration 107, loss = 0.08757870\n",
      "Iteration 108, loss = 0.08752068\n",
      "Iteration 109, loss = 0.08779830\n",
      "Iteration 110, loss = 0.08788996\n",
      "Iteration 111, loss = 0.08739088\n",
      "Iteration 112, loss = 0.08655972\n",
      "Iteration 113, loss = 0.08630081\n",
      "Iteration 114, loss = 0.08833635\n",
      "Iteration 115, loss = 0.08829863\n",
      "Iteration 116, loss = 0.08674716\n",
      "Iteration 117, loss = 0.08630493\n",
      "Iteration 118, loss = 0.08699291\n",
      "Iteration 119, loss = 0.08810987\n",
      "Iteration 120, loss = 0.08641691\n",
      "Iteration 121, loss = 0.08631810\n",
      "Iteration 122, loss = 0.09353945\n",
      "Iteration 123, loss = 0.08552933\n",
      "Iteration 124, loss = 0.08602512\n",
      "Iteration 125, loss = 0.08635057\n",
      "Iteration 126, loss = 0.08637210\n",
      "Iteration 127, loss = 0.08850386\n",
      "Iteration 128, loss = 0.08725530\n",
      "Iteration 129, loss = 0.08598093\n",
      "Iteration 130, loss = 0.09102236\n",
      "Iteration 131, loss = 0.08654476\n",
      "Iteration 132, loss = 0.08602355\n",
      "Iteration 133, loss = 0.08666474\n",
      "Iteration 134, loss = 0.08719406\n",
      "Training loss did not improve more than tol=0.000000 for 10 consecutive epochs. Stopping.\n"
     ]
    },
    {
     "data": {
      "text/plain": [
       "MLPRegressor(hidden_layer_sizes=(600, 300, 150, 75, 150, 300, 600),\n",
       "             learning_rate_init=0.0001, random_state=10, tol=1e-07,\n",
       "             verbose=True)"
      ]
     },
     "execution_count": 6,
     "metadata": {},
     "output_type": "execute_result"
    }
   ],
   "source": [
    "# Shape of input and latent variable\n",
    "\n",
    "n_input = 821      # No. of neurons in the input layer #\n",
    "\n",
    "# Encoder structure \n",
    "n_encoder1 = 600\n",
    "n_encoder2 = 300\n",
    "n_encoder3 = 150\n",
    "\n",
    "n_latent = 75        ## Reduced dimension (neurons) of the latent space ##\n",
    "\n",
    "# Decoder structure \n",
    "n_decoder3 = 150\n",
    "n_decoder2 = 300\n",
    "n_decoder1 = 600\n",
    "\n",
    "\n",
    "## Model ##\n",
    "reg = MLPRegressor(hidden_layer_sizes = (n_encoder1, n_encoder2, n_encoder3, n_latent, n_decoder3, n_decoder2, n_decoder1), \n",
    "                   activation = 'relu', \n",
    "                   solver = 'adam', \n",
    "                   learning_rate_init = 0.0001, \n",
    "                   max_iter = 200, \n",
    "                   tol = 0.0000001, random_state=10,\n",
    "                   verbose = True)\n",
    "\n",
    "## Train the model ##\n",
    "reg.fit(train, train)"
   ]
  },
  {
   "cell_type": "code",
   "execution_count": 7,
   "id": "c940e538",
   "metadata": {},
   "outputs": [
    {
     "name": "stdout",
     "output_type": "stream",
     "text": [
      "[[ 9.25471959 11.2720454  13.36370684 ...  7.24095899 10.82686015\n",
      "  13.30391207]\n",
      " [ 9.34447548 11.45317518 13.52456421 ...  7.35196437 10.98154778\n",
      "  13.39900421]\n",
      " [ 8.20713009 10.42300574 12.56826685 ...  6.76687591 10.3936866\n",
      "  12.87558609]\n",
      " ...\n",
      " [10.89861691 12.9588035  14.82128269 ...  8.1133852  11.82815657\n",
      "  14.1324557 ]\n",
      " [ 8.36628178 10.53850675 12.70796184 ...  6.85569614 10.47609006\n",
      "  12.94929234]\n",
      " [ 8.12048327 10.37345326 12.51109475 ...  6.78780303 10.36541598\n",
      "  12.81427322]]\n"
     ]
    }
   ],
   "source": [
    "#### Predict for a random test_x value ###\n",
    "test_reconst = reg.predict(test)\n",
    "print(test_reconst)"
   ]
  },
  {
   "cell_type": "code",
   "execution_count": 8,
   "id": "cd4b3a0e",
   "metadata": {},
   "outputs": [
    {
     "name": "stdout",
     "output_type": "stream",
     "text": [
      "        43- 44    43- 45    43- 46    43- 47    43- 48    43- 49    43- 50  \\\n",
      "4985  0.775735  0.698948  0.364693  0.123734  0.184501  0.473835  0.445824   \n",
      "1852  1.053215  1.238382  0.484608 -0.069226 -0.297444 -0.160997 -0.087040   \n",
      "66   -0.417804 -0.879671 -1.083304 -0.406123  0.369891  0.119704  0.722794   \n",
      "216   1.320258  0.432820  0.237803 -0.139919 -0.459526 -0.408906 -0.236939   \n",
      "5912 -3.450437 -2.777242 -2.098722 -1.421114 -0.559374 -0.289396  0.503029   \n",
      "...        ...       ...       ...       ...       ...       ...       ...   \n",
      "6742 -0.772948 -0.044248  0.394675  0.551059  0.996152  1.023929  1.015768   \n",
      "2821  0.267968  0.212267  0.401157  0.239836 -0.636256 -0.484889 -0.545686   \n",
      "6865 -0.646426  0.066455 -0.062740 -0.354088 -0.133813  0.036444  0.556998   \n",
      "48   -0.939621 -0.833933 -0.553824 -0.409815 -0.194618  0.073790 -0.048626   \n",
      "5256 -0.341623 -0.456860 -0.421226 -0.157698 -0.115465  0.184080  0.266682   \n",
      "\n",
      "        43- 51    43- 52    43- 53  ...    79- 80    79- 81    79- 82  \\\n",
      "4985  0.688840  0.979816  0.984322  ... -0.484627 -0.539875  0.009116   \n",
      "1852 -0.006069  0.364467  0.098568  ... -0.098633 -0.354584  0.125903   \n",
      "66    0.766407  0.225510  0.361362  ...  0.100336  0.117461  0.442442   \n",
      "216  -0.160190 -0.284641 -0.383755  ...  0.104582  0.069610  0.009792   \n",
      "5912  0.965259  0.260021  0.319609  ...  0.389811  0.655218  0.779750   \n",
      "...        ...       ...       ...  ...       ...       ...       ...   \n",
      "6742  1.199573  0.907280  0.973977  ...  0.219151  0.443953 -0.046991   \n",
      "2821 -0.637023 -0.186655 -0.439639  ...  0.048768  0.190367  0.447814   \n",
      "6865  0.660224  0.047595 -0.180398  ... -0.161073  0.311774 -0.051343   \n",
      "48    0.372538 -0.271413 -0.201469  ...  0.122291 -0.124421  0.168274   \n",
      "5256  0.392244  0.099331  0.167867  ... -0.486796 -0.671913 -0.648902   \n",
      "\n",
      "        79- 83    80- 81    80- 82    80- 83    81- 82    81- 83    82- 83  \n",
      "4985 -0.814729 -0.237187  0.577524 -0.044545  1.395153  1.433788  2.410526  \n",
      "1852  0.238087 -0.575768  0.032720  0.019697 -0.118951 -0.390151 -0.608324  \n",
      "66    0.309272 -0.374082  0.056073 -0.124975  0.551920  0.341537 -0.050771  \n",
      "216   0.145537  0.016737 -0.235071 -0.241015  0.018044 -0.021702  0.117616  \n",
      "5912  0.781016  1.033480  1.153575  0.865743  2.318098  2.282099  3.184344  \n",
      "...        ...       ...       ...       ...       ...       ...       ...  \n",
      "6742 -0.062887  0.826112 -0.037941 -0.209600  0.410839  0.486022 -0.052342  \n",
      "2821  0.452087  0.289078  0.583361  0.543159  0.659776  0.893359  1.721700  \n",
      "6865  0.061825  1.080237  0.469103  0.514583  0.816479  0.699206  1.123729  \n",
      "48    0.064268 -0.587014 -0.175644 -0.390465  0.306562 -0.140663 -0.240983  \n",
      "5256 -0.332639 -0.043254 -0.356699 -0.215833 -0.067448 -0.325971 -0.059968  \n",
      "\n",
      "[1501 rows x 820 columns]\n"
     ]
    }
   ],
   "source": [
    "#print(x_reconst)\n",
    "dio = test - test_reconst\n",
    "print(dio)\n",
    "# saving the dataframe\n",
    "dio.to_csv('dio_wildtest.csv', header=True, sep=',', index=None)"
   ]
  },
  {
   "cell_type": "code",
   "execution_count": 9,
   "id": "edfd5284",
   "metadata": {},
   "outputs": [],
   "source": [
    "npdio=dio.to_numpy()"
   ]
  },
  {
   "cell_type": "code",
   "execution_count": 10,
   "id": "630ce71e",
   "metadata": {},
   "outputs": [
    {
     "data": {
      "image/png": "[encoded data removed]",
      "text/plain": [
       "<Figure size 432x288 with 1 Axes>"
      ]
     },
     "metadata": {
      "needs_background": "light"
     },
     "output_type": "display_data"
    }
   ],
   "source": [
    "dfdio = npdio.flatten()\n",
    "plt.hist(dfdio, weights=np.ones_like(dfdio) / len(dfdio), bins=np.arange(-10.5, 10.5), alpha=0.9, rwidth=0.5)\n",
    "plt.savefig(\"wildtest_dio.png\")"
   ]
  },
  {
   "cell_type": "code",
   "execution_count": 11,
   "id": "20df733d",
   "metadata": {},
   "outputs": [
    {
     "name": "stdout",
     "output_type": "stream",
     "text": [
      "         43- 44     43- 45     43- 46     43- 47     43- 48     43- 49  \\\n",
      "0     14.198056  15.939044  15.460161  16.501637  17.104344  19.832851   \n",
      "1     14.841794  16.995970  16.933247  17.363069  17.548868  20.001848   \n",
      "2     14.961940  16.680530  17.433890  17.440839  17.503629  19.973437   \n",
      "3     13.602498  15.673167  15.905415  16.929646  16.605261  19.426374   \n",
      "4     13.234447  15.367824  15.911974  16.523988  16.745110  19.136114   \n",
      "...         ...        ...        ...        ...        ...        ...   \n",
      "7496  14.825966  15.649266  13.820649  14.358705  16.826574  19.859628   \n",
      "7497  16.623368  16.467577  14.451734  15.019296  17.233832  20.206527   \n",
      "7498  17.743331  17.142197  15.009389  15.443769  17.469820  20.323893   \n",
      "7499  17.165042  16.615662  13.692405  14.278606  16.784855  19.700176   \n",
      "7500  17.275399  16.649827  14.049878  14.820916  17.122355  20.130800   \n",
      "\n",
      "         43- 50     43- 51     43- 52     43- 53  ...    79- 80    79- 81  \\\n",
      "0     20.833976  24.178289  25.032449  28.796238  ...  6.550051  8.680748   \n",
      "1     21.432307  24.224925  25.078686  28.704140  ...  6.299242  8.031686   \n",
      "2     21.167891  24.259389  25.443129  29.047871  ...  6.406721  8.498483   \n",
      "3     20.360139  23.321604  25.138374  28.731200  ...  6.337230  8.459677   \n",
      "4     19.802173  22.831449  24.854390  28.199635  ...  5.912797  7.973855   \n",
      "...         ...        ...        ...        ...  ...       ...       ...   \n",
      "7496  22.341900  25.596699  25.725311  29.428373  ...  6.154050  8.061651   \n",
      "7497  22.601415  25.804472  25.914192  29.504146  ...  6.472071  8.344136   \n",
      "7498  22.760813  25.681299  26.434071  30.003531  ...  6.407161  8.426265   \n",
      "7499  22.382901  25.748390  25.969655  29.511740  ...  6.180679  7.999577   \n",
      "7500  22.605239  25.931075  26.149992  29.647726  ...  6.102462  8.123037   \n",
      "\n",
      "         79- 82     79- 83    80- 81    80- 82     80- 83    81- 82  \\\n",
      "0     11.667129  15.121755  5.989606  8.259209  11.777739  6.236087   \n",
      "1     10.966720  14.111767  5.758891  7.754247  10.998333  6.088379   \n",
      "2     11.281989  14.393377  5.974155  7.904536  11.128537  6.091632   \n",
      "3     11.226705  14.229124  6.078374  7.908724  11.084929  6.410669   \n",
      "4     10.850118  13.923235  5.803002  7.703545  10.922536  5.977564   \n",
      "...         ...        ...       ...       ...        ...       ...   \n",
      "7496  11.594102  14.403651  5.990397  8.882061  12.223025  7.950525   \n",
      "7497  11.721334  14.520840  5.819330  8.546382  11.769587  7.984619   \n",
      "7498  11.962485  14.811175  6.055923  8.966126  12.266229  8.203179   \n",
      "7499  11.522457  14.297979  5.355332  8.314489  11.480182  8.191504   \n",
      "7500  11.452965  14.321790  5.696240  8.319745  11.642714  7.790233   \n",
      "\n",
      "         81- 83    82- 83  \n",
      "0      9.018652  6.421421  \n",
      "1      8.408555  6.145606  \n",
      "2      8.371409  6.218406  \n",
      "3      8.550931  6.569309  \n",
      "4      8.223418  6.509646  \n",
      "...         ...       ...  \n",
      "7496  10.626619  7.655921  \n",
      "7497  10.467814  7.567001  \n",
      "7498  10.889717  8.058051  \n",
      "7499  10.451296  7.795590  \n",
      "7500  10.333846  7.463602  \n",
      "\n",
      "[7501 rows x 820 columns]\n"
     ]
    }
   ],
   "source": [
    "df1 = pd.read_csv('mt_distag.csv', sep=',')\n",
    "print(df1)"
   ]
  },
  {
   "cell_type": "code",
   "execution_count": 12,
   "id": "c0cb33a8",
   "metadata": {},
   "outputs": [],
   "source": [
    "train1, test1 = train_test_split(df1, test_size=0.2,random_state=10)"
   ]
  },
  {
   "cell_type": "code",
   "execution_count": 13,
   "id": "a292e87b",
   "metadata": {},
   "outputs": [
    {
     "name": "stdout",
     "output_type": "stream",
     "text": [
      "         43- 44     43- 45     43- 46     43- 47     43- 48     43- 49  \\\n",
      "1735  16.736162  16.860082  16.934195  16.951846  16.968105  19.480629   \n",
      "3501  15.294922  15.752960  16.564829  17.026086  16.888350  19.301009   \n",
      "5902  16.066426  15.806029  13.387715  14.690933  17.663707  20.331161   \n",
      "2961  11.408896  12.835967  11.981075  15.172248  16.562005  19.932308   \n",
      "2537   8.678196  10.784063  11.434829  14.043460  14.641175  18.105550   \n",
      "...         ...        ...        ...        ...        ...        ...   \n",
      "3441  13.700535  15.424052  15.752917  16.847616  17.566992  20.153593   \n",
      "1344  14.478206  15.523179  14.694525  16.472410  16.413088  19.301823   \n",
      "4623  14.404892  15.999802  15.609973  16.657822  16.718131  19.477123   \n",
      "7293  18.121744  17.565699  14.682420  14.955478  17.572642  20.027924   \n",
      "1289  16.860730  16.442965  15.567542  16.319606  16.043991  18.448277   \n",
      "\n",
      "         43- 50     43- 51     43- 52     43- 53  ...    79- 80    79- 81  \\\n",
      "1735  20.166355  22.932224  24.133750  27.440609  ...  6.375317  8.574068   \n",
      "3501  19.829859  22.637607  23.990034  27.737462  ...  5.808280  8.294940   \n",
      "5902  22.991110  26.320529  25.746183  29.285770  ...  6.169485  8.350353   \n",
      "2961  21.888966  25.232887  26.385498  30.109049  ...  6.451964  8.723389   \n",
      "2537  19.247937  22.758155  23.812843  27.477426  ...  6.461578  8.390077   \n",
      "...         ...        ...        ...        ...  ...       ...       ...   \n",
      "3441  21.673294  24.548694  25.259470  28.810688  ...  6.096689  8.435706   \n",
      "1344  19.857585  22.893445  24.113606  27.732251  ...  6.083806  8.520188   \n",
      "4623  20.537843  23.850627  24.568869  28.103922  ...  6.151798  7.976390   \n",
      "7293  22.890524  26.057435  25.635206  28.845988  ...  5.675061  7.876035   \n",
      "1289  18.497323  21.123523  22.804926  26.223382  ...  6.144552  8.772139   \n",
      "\n",
      "         79- 82     79- 83    80- 81    80- 82     80- 83    81- 82  \\\n",
      "1735  11.190482  14.222757  6.037243  7.823336  10.948714  6.196913   \n",
      "3501  10.894359  14.287215  5.962332  7.600950  11.250178  6.311860   \n",
      "5902  11.585341  14.597608  5.640066  8.258735  11.670169  7.887336   \n",
      "2961  11.433753  14.695610  6.367456  8.147017  11.484806  6.421813   \n",
      "2537  11.198301  14.516264  6.087982  7.966505  11.536639  6.247889   \n",
      "...         ...        ...       ...       ...        ...       ...   \n",
      "3441  10.651307  14.060652  6.008139  7.209163  10.674281  5.782056   \n",
      "1344  10.893230  14.179529  5.873142  7.433277  10.780614  6.257051   \n",
      "4623  11.366372  14.304110  5.672556  8.303790  11.541537  7.491163   \n",
      "7293  11.567215  14.674757  5.757469  8.860930  12.431061  8.346118   \n",
      "1289  10.680966  14.168970  6.218046  7.180018  10.657666  6.076940   \n",
      "\n",
      "         81- 83    82- 83  \n",
      "1735   8.318416  5.688014  \n",
      "3501   9.286346  6.735490  \n",
      "5902  10.361025  7.219412  \n",
      "2961   8.844958  6.075177  \n",
      "2537   9.069557  6.519096  \n",
      "...         ...       ...  \n",
      "3441   8.307632  6.103417  \n",
      "1344   8.611720  6.452619  \n",
      "4623   9.811853  6.618082  \n",
      "7293  11.560045  9.192353  \n",
      "1289   8.504267  5.944870  \n",
      "\n",
      "[6000 rows x 820 columns]\n"
     ]
    }
   ],
   "source": [
    "print(train1)"
   ]
  },
  {
   "cell_type": "code",
   "execution_count": 14,
   "id": "73f846fc",
   "metadata": {},
   "outputs": [
    {
     "name": "stdout",
     "output_type": "stream",
     "text": [
      "         43- 44     43- 45     43- 46     43- 47     43- 48     43- 49  \\\n",
      "4985  13.680075  15.455270  14.901895  15.597296  16.007601  18.810403   \n",
      "1852  10.300986  12.355473  14.867835  15.147765  14.471462  17.177323   \n",
      "66    12.800178  14.969381  15.305259  16.291591  16.356299  19.276634   \n",
      "216   12.765991  14.660061  14.843936  15.746697  15.894466  18.826858   \n",
      "5912  14.777779  14.625486  12.680952  13.996250  17.009160  19.767772   \n",
      "...         ...        ...        ...        ...        ...        ...   \n",
      "6742  18.306561  18.334428  15.850281  16.082541  18.396955  20.896090   \n",
      "2821  14.362455  14.883392  16.458180  16.682285  14.775344  16.953805   \n",
      "6865  17.294949  17.132027  14.493494  15.508864  17.851408  20.556932   \n",
      "48    14.602505  15.944974  16.434710  17.208223  17.145163  19.723091   \n",
      "5256  12.347976  13.663854  13.079889  14.027802  14.762525  17.669396   \n",
      "\n",
      "         43- 50     43- 51     43- 52     43- 53  ...    79- 80    79- 81  \\\n",
      "4985  20.388776  23.603442  23.766021  27.378842  ...  6.129861  7.842433   \n",
      "1852  17.092938  19.833504  21.904948  25.436650  ...  6.492663  8.533946   \n",
      "66    20.198455  23.427817  24.389372  28.086500  ...  6.147750  8.603115   \n",
      "216   19.509425  22.544861  23.673133  27.339226  ...  6.348180  8.494587   \n",
      "5912  22.511181  25.963605  25.306216  28.767481  ...  6.414300  8.281544   \n",
      "...         ...        ...        ...        ...  ...       ...       ...   \n",
      "6742  23.286317  26.442225  26.225245  29.668859  ...  6.547143  8.304532   \n",
      "2821  16.766504  19.656074  21.327359  24.814177  ...  6.009782  8.462364   \n",
      "6865  22.787173  26.093306  25.365970  28.820170  ...  6.250824  8.550899   \n",
      "48    20.951003  24.074061  24.905398  28.541090  ...  5.912874  8.226471   \n",
      "5256  19.365497  22.607495  23.432871  27.225142  ...  6.442397  8.112017   \n",
      "\n",
      "         79- 82     79- 83    80- 81    80- 82     80- 83    81- 82  \\\n",
      "4985  11.232542  13.843923  5.658119  8.285333  11.488759  7.997811   \n",
      "1852  11.176242  14.054200  5.923976  7.745307  10.861737  6.215786   \n",
      "66    11.281720  14.561447  6.103724  7.987535  11.364757  6.280859   \n",
      "216   11.385979  13.753683  6.164900  8.190474  10.864277  6.473930   \n",
      "5912  11.494119  14.588185  5.869720  8.261985  11.734737  8.189293   \n",
      "...         ...        ...       ...       ...        ...       ...   \n",
      "6742  12.033626  15.226858  6.119493  9.264972  12.889023  8.510800   \n",
      "2821  10.755561  14.261308  6.092890  7.356730  11.093415  6.063857   \n",
      "6865  12.203059  15.326489  5.799962  8.989347  12.491360  8.422861   \n",
      "48    11.114152  14.077574  5.900750  7.911029  11.022853  5.811690   \n",
      "5256  11.421133  14.382619  5.781869  8.311903  11.686758  8.082654   \n",
      "\n",
      "         81- 83    82- 83  \n",
      "4985  10.396692  7.547008  \n",
      "1852   8.310911  6.110757  \n",
      "66     8.736946  6.738508  \n",
      "216    8.063555  5.843788  \n",
      "5912  10.768650  7.953700  \n",
      "...         ...       ...  \n",
      "6742  11.625162  8.986506  \n",
      "2821   9.022562  6.455309  \n",
      "6865  11.591407  9.305798  \n",
      "48     7.987332  6.455354  \n",
      "5256  10.600559  7.684819  \n",
      "\n",
      "[1501 rows x 820 columns]\n"
     ]
    }
   ],
   "source": [
    "print(test1)"
   ]
  },
  {
   "cell_type": "code",
   "execution_count": 15,
   "id": "b7e84170",
   "metadata": {},
   "outputs": [
    {
     "name": "stdout",
     "output_type": "stream",
     "text": [
      "[[11.73352614 13.59099108 15.26345726 ...  8.34797687 12.0259597\n",
      "  14.19766559]\n",
      " [11.86252477 13.76036991 15.47900121 ...  8.51974035 12.18938523\n",
      "  14.38203325]\n",
      " [11.60547001 13.4839697  15.18098637 ...  8.36937319 11.94467318\n",
      "  14.14937999]\n",
      " ...\n",
      " [11.09978561 13.0375061  14.79916122 ...  8.01323022 11.73693079\n",
      "  13.94167589]\n",
      " [11.71999329 13.60057114 15.2743585  ...  8.43391443 12.01510844\n",
      "  14.21999068]\n",
      " [11.68620747 13.54732897 15.25640669 ...  8.30998476 12.03019419\n",
      "  14.19860317]]\n"
     ]
    }
   ],
   "source": [
    "#### Predict for a random test_x value ###\n",
    "test1_reconst = reg.predict(test1)\n",
    "print(test1_reconst)"
   ]
  },
  {
   "cell_type": "code",
   "execution_count": 16,
   "id": "706f4da5",
   "metadata": {},
   "outputs": [
    {
     "name": "stdout",
     "output_type": "stream",
     "text": [
      "        43- 44    43- 45    43- 46    43- 47    43- 48    43- 49    43- 50  \\\n",
      "4985  1.946549  1.864279 -0.361562  1.192554 -0.061789  0.177055  0.589666   \n",
      "1852 -1.561539 -1.404897 -0.611166  0.560076 -1.806894 -1.756103 -2.992253   \n",
      "66    1.194708  1.485412  0.124273  1.892913  0.283665  0.554812  0.299898   \n",
      "216   1.094253  1.081033 -0.417344  1.363164 -0.227116  0.144584 -0.367459   \n",
      "5912  4.732949  2.520853 -1.315368  0.068697  0.952201  0.826943  1.904531   \n",
      "...        ...       ...       ...       ...       ...       ...       ...   \n",
      "6742  7.118517  5.129861  0.883091  1.673854  2.084433  1.837524  2.831984   \n",
      "2821  1.759199  0.543753  0.192020  1.986946 -1.300255 -1.746559 -2.986863   \n",
      "6865  6.195164  4.094521 -0.305667  1.274729  1.762920  1.821887  2.659664   \n",
      "48    2.882511  2.344403  1.160352  2.748514  1.032203  0.971619  1.055001   \n",
      "5256  0.661769  0.116525 -2.176517 -0.366228 -1.345054 -0.995899 -0.520644   \n",
      "\n",
      "        43- 51    43- 52    43- 53  ...    79- 80    79- 81    79- 82  \\\n",
      "4985  0.793822 -0.287324 -0.385461  ... -0.502649 -1.556107 -0.853633   \n",
      "1852 -3.337509 -2.499291 -2.714976  ... -0.198408 -0.966046 -1.109074   \n",
      "66    0.447376  0.200673  0.221999  ... -0.467084 -0.728722 -0.798440   \n",
      "216  -0.368617 -0.453671 -0.506676  ... -0.274282 -0.894868 -0.737278   \n",
      "5912  2.234317  0.209598 -0.076210  ... -0.002552 -0.568995 -0.378604   \n",
      "...        ...       ...       ...  ...       ...       ...       ...   \n",
      "6742  2.834524  1.322943  1.044165  ... -0.133201 -0.980294 -0.097976   \n",
      "2821 -2.928437 -2.422329 -2.808612  ... -0.670566 -1.181054 -1.718982   \n",
      "6865  2.926978  0.917473  0.633529  ... -0.306804 -0.637217  0.221861   \n",
      "48    1.074159  0.712374  0.667360  ... -0.739785 -1.161261 -1.013483   \n",
      "5256 -0.243214 -0.644716 -0.609222  ... -0.162768 -1.276786 -0.708648   \n",
      "\n",
      "        79- 83    80- 81    80- 82    80- 83    81- 82    81- 83    82- 83  \n",
      "4985 -1.758293 -1.629117 -0.963979 -1.497428 -0.350166 -1.629268 -6.650657  \n",
      "1852 -1.725397 -1.450684 -1.645611 -2.308006 -2.303954 -3.878474 -8.271276  \n",
      "66   -1.009284 -1.137956 -1.254892 -1.639117 -2.088514 -3.207727 -7.410872  \n",
      "216  -1.838798 -1.120644 -1.044652 -2.152860 -1.909359 -3.939937 -8.340309  \n",
      "5912 -0.744694 -0.820029 -0.745948 -1.001493  0.649943 -0.500545 -5.571276  \n",
      "...        ...       ...       ...       ...       ...       ...       ...  \n",
      "6742 -0.488081 -1.024724  0.008290 -0.205711  0.370927 -0.220748 -5.115330  \n",
      "2821 -1.928184 -1.599962 -1.968616 -2.118178 -2.747053 -3.497711 -8.130111  \n",
      "6865 -0.187964 -1.275839 -0.142745 -0.417091  0.409631 -0.145524 -4.635877  \n",
      "48   -1.552462 -1.403621 -1.343153 -2.025522 -2.622224 -4.027776 -7.764637  \n",
      "5256 -1.229730 -1.527561 -0.913206 -1.316145 -0.227331 -1.429635 -6.513785  \n",
      "\n",
      "[1501 rows x 820 columns]\n"
     ]
    }
   ],
   "source": [
    "#print(x_reconst)\n",
    "dio1 = test1 - test1_reconst\n",
    "print(dio1)\n",
    "dio1.to_csv('dio_mutanttest.csv', header=True, sep=',', index=None)"
   ]
  },
  {
   "cell_type": "code",
   "execution_count": 17,
   "id": "b5951493",
   "metadata": {},
   "outputs": [],
   "source": [
    "npdio1=dio1.to_numpy()\n"
   ]
  },
  {
   "cell_type": "code",
   "execution_count": 18,
   "id": "48b98dcb",
   "metadata": {},
   "outputs": [
    {
     "data": {
      "image/png": "[encoded data removed]",
      "text/plain": [
       "<Figure size 432x288 with 1 Axes>"
      ]
     },
     "metadata": {
      "needs_background": "light"
     },
     "output_type": "display_data"
    }
   ],
   "source": [
    "dfdio1 = npdio1.flatten()\n",
    "plt.hist(dfdio1, weights=np.ones_like(dfdio1) / len(dfdio1), bins=np.arange(-10.5, 10.5), alpha=0.9, rwidth=0.5)\n",
    "plt.savefig(\"mutanttest_dio.png\")"
   ]
  },
  {
   "cell_type": "code",
   "execution_count": 19,
   "id": "04f86874",
   "metadata": {},
   "outputs": [
    {
     "name": "stdout",
     "output_type": "stream",
     "text": [
      "[[12.03311249 13.95074786 15.57101577 ...  8.59314129 12.23329526\n",
      "  14.39725467]\n",
      " [12.16189276 14.00652393 15.68785669 ...  8.6165019  12.3270474\n",
      "  14.47949295]\n",
      " [12.3348438  14.14638179 15.88056036 ...  8.68266682 12.42084065\n",
      "  14.56551473]\n",
      " ...\n",
      " [10.47964006 12.43992358 14.31502902 ...  7.76163851 11.42019079\n",
      "  13.75868046]\n",
      " [10.05320011 12.06552516 13.9363326  ...  7.52647063 11.17689183\n",
      "  13.52884434]\n",
      " [10.57592182 12.53717526 14.35177996 ...  7.76790285 11.44907514\n",
      "  13.73853015]]\n"
     ]
    }
   ],
   "source": [
    "######for fratrures importance condiser whole mutant dataset for reconstruction\n",
    "#### Predict for a random test_x value ###\n",
    "whole_reconst = reg.predict(df1)\n",
    "print(whole_reconst)"
   ]
  },
  {
   "cell_type": "code",
   "execution_count": 20,
   "id": "ef4bd7df",
   "metadata": {},
   "outputs": [
    {
     "name": "stdout",
     "output_type": "stream",
     "text": [
      "        43- 44    43- 45    43- 46    43- 47    43- 48    43- 49    43- 50  \\\n",
      "0     2.164943  1.988296 -0.110855  1.884666  0.865327  1.022283  0.900044   \n",
      "1     2.679901  2.989446  1.245390  2.660637  1.286543  1.035843  1.416814   \n",
      "2     2.627096  2.534149  1.553329  2.657539  1.222775  1.010872  1.125530   \n",
      "3     1.421100  1.669454  0.201641  2.289809  0.393686  0.613925  0.439411   \n",
      "4     1.146201  1.442774  0.305023  1.946508  0.591008  0.332320 -0.071797   \n",
      "...        ...       ...       ...       ...       ...       ...       ...   \n",
      "7496  4.889284  3.668535 -0.058965  0.479532  0.797523  0.885930  1.693015   \n",
      "7497  6.298503  4.131746  0.257856  0.987836  1.154416  1.221848  2.065138   \n",
      "7498  7.263691  4.702274  0.694360  1.327352  1.377935  1.280633  2.192942   \n",
      "7499  7.111842  4.550137 -0.243927  0.373607  0.776745  0.732668  1.784800   \n",
      "7500  6.699477  4.112651 -0.301902  0.742324  1.079120  1.242488  2.226279   \n",
      "\n",
      "        43- 51    43- 52    43- 53  ...    79- 80    79- 81    79- 82  \\\n",
      "0     1.143969  0.794802  0.846859  ... -0.172897 -0.849310 -0.620387   \n",
      "1     1.089016  0.723250  0.648313  ... -0.473263 -1.514919 -1.354292   \n",
      "2     1.119865  1.109115  0.997133  ... -0.376807 -1.079911 -1.121272   \n",
      "3     0.371411  0.974373  0.820532  ... -0.376688 -1.074695 -1.097714   \n",
      "4    -0.106730  0.708947  0.359361  ... -0.780588 -1.497749 -1.405285   \n",
      "...        ...       ...       ...  ...       ...       ...       ...   \n",
      "7496  1.708404  0.459455  0.483641  ... -0.274970 -0.751747 -0.198257   \n",
      "7497  2.065576  0.836680  0.741969  ... -0.027276 -0.578395 -0.175653   \n",
      "7498  1.873717  1.279543  1.180027  ... -0.122694 -0.540774  0.043908   \n",
      "7499  1.901879  0.767471  0.661791  ... -0.287048 -0.823907 -0.265551   \n",
      "7500  2.382984  1.292418  1.099449  ... -0.444924 -0.876556 -0.441517   \n",
      "\n",
      "        79- 83    80- 81    80- 82    80- 83    81- 82    81- 83    82- 83  \n",
      "0    -0.714471 -1.443285 -1.086121 -1.425166 -2.357054 -3.214643 -7.975834  \n",
      "1    -1.801594 -1.691990 -1.664050 -2.227341 -2.528123 -3.918493 -8.333887  \n",
      "2    -1.649183 -1.553919 -1.510965 -2.161707 -2.591034 -4.049432 -8.347109  \n",
      "3    -1.684934 -1.363423 -1.458390 -2.088370 -2.192338 -3.774674 -7.871837  \n",
      "4    -1.888237 -1.602126 -1.635705 -2.212627 -2.585269 -4.022025 -7.861935  \n",
      "...        ...       ...       ...       ...       ...       ...       ...  \n",
      "7496 -0.870128 -0.642117 -0.178610 -0.506281  0.440591 -0.532754 -5.852827  \n",
      "7497 -0.842676 -0.960841 -0.550542 -1.045671  0.275164 -0.890963 -6.100373  \n",
      "7498 -0.641217 -0.775239 -0.199142 -0.628829  0.441540 -0.530474 -5.700629  \n",
      "7499 -0.997802 -1.310523 -0.731378 -1.268680  0.665033 -0.725596 -5.733254  \n",
      "7500 -1.076824 -1.159611 -0.770026 -1.195134  0.022330 -1.115229 -6.274928  \n",
      "\n",
      "[7501 rows x 820 columns]\n"
     ]
    }
   ],
   "source": [
    "#print(x_reconst)\n",
    "dio2 = df1 - whole_reconst\n",
    "print(dio2)\n",
    "dio2.to_csv('dio_wholetest.csv', header=True, sep=',', index=None)"
   ]
  },
  {
   "cell_type": "code",
   "execution_count": 21,
   "id": "9d38c790",
   "metadata": {},
   "outputs": [],
   "source": [
    "npdio2=dio2.to_numpy()\n"
   ]
  },
  {
   "cell_type": "code",
   "execution_count": 22,
   "id": "060d4326",
   "metadata": {},
   "outputs": [
    {
     "data": {
      "image/png": "[encoded data removed]",
      "text/plain": [
       "<Figure size 432x288 with 1 Axes>"
      ]
     },
     "metadata": {
      "needs_background": "light"
     },
     "output_type": "display_data"
    }
   ],
   "source": [
    "dfdio2 = npdio2.flatten()\n",
    "plt.hist(dfdio2, weights=np.ones_like(dfdio2) / len(dfdio2), bins=np.arange(-10.5, 10.5), alpha=0.9, rwidth=0.5)\n",
    "plt.savefig(\"wholemutanttest_dio.png\")"
   ]
  },
  {
   "cell_type": "code",
   "execution_count": 23,
   "id": "99f46b1e",
   "metadata": {},
   "outputs": [
    {
     "name": "stdout",
     "output_type": "stream",
     "text": [
      "[[12.5247951  14.28866964 16.13692192 ...  8.78985306 12.47642867\n",
      "  14.58032286]\n",
      " [12.35642814 14.21058991 15.92103839 ...  8.70060085 12.44231939\n",
      "  14.56485609]\n",
      " [10.49349931 12.46973734 14.29469241 ...  7.73521393 11.42001212\n",
      "  13.67502791]\n",
      " ...\n",
      " [11.74861598 13.66261684 15.36126296 ...  8.44742932 12.09165081\n",
      "  14.31561966]\n",
      " [11.13239851 13.0464458  14.76497807 ...  8.00003892 11.69530043\n",
      "  13.90171097]\n",
      " [12.4334107  14.17350479 16.01467214 ...  8.7203376  12.39474984\n",
      "  14.53104115]]\n"
     ]
    }
   ],
   "source": [
    "#####reconstraction of train\n",
    "#### Predict for a random test_x value ###\n",
    "train1_reconst = reg.predict(train1)\n",
    "print(train1_reconst)"
   ]
  },
  {
   "cell_type": "code",
   "execution_count": 24,
   "id": "4599ea79",
   "metadata": {},
   "outputs": [
    {
     "name": "stdout",
     "output_type": "stream",
     "text": [
      "        43- 44    43- 45    43- 46    43- 47    43- 48    43- 49    43- 50  \\\n",
      "1735  4.211366  2.571412  0.797273  2.219894  0.805739  0.701231  0.317033   \n",
      "3501  2.938494  1.542370  0.643791  2.261254  0.563417  0.394533 -0.188748   \n",
      "5902  5.572927  3.336292 -0.906977  0.671655  1.672208  1.547211  2.668131   \n",
      "2961  0.417087 -0.113226 -2.852090  0.777506  0.280466  0.687319  1.244040   \n",
      "2537 -2.035381 -1.899282 -3.106181 -0.060764 -1.400512 -0.742114 -1.016586   \n",
      "...        ...       ...       ...       ...       ...       ...       ...   \n",
      "3441  2.107524  1.921948  0.531769  2.355133  1.365012  1.195297  1.532987   \n",
      "1344  2.431928  1.615798 -0.873747  1.855294  0.225036  0.459212 -0.057232   \n",
      "4623  2.656276  2.337185  0.248710  2.119421  0.429322  0.561553  0.412838   \n",
      "7293  6.989346  4.519253 -0.082558  0.775812  1.559788  1.402895  2.907347   \n",
      "1289  4.427320  2.269460 -0.447130  1.658725 -0.081886 -0.291029 -1.325023   \n",
      "\n",
      "        43- 51    43- 52    43- 53  ...    79- 80    79- 81    79- 82  \\\n",
      "1735  0.100405  0.156513 -0.327224  ... -0.337455 -1.049552 -1.265992   \n",
      "3501 -0.426621 -0.246006 -0.275446  ... -0.985252 -1.347922 -1.507279   \n",
      "5902  2.895675  0.980287  0.813967  ... -0.288196 -0.618296 -0.289076   \n",
      "2961  1.422665  1.253689  1.200271  ... -0.165785 -0.472233 -0.733176   \n",
      "2537 -0.610273 -0.849032 -0.935635  ...  0.009447 -0.663452 -0.801994   \n",
      "...        ...       ...       ...  ...       ...       ...       ...   \n",
      "3441  1.259034  0.749881  0.620857  ... -0.595771 -0.930448 -1.500288   \n",
      "1344 -0.128424 -0.097892 -0.157575  ... -0.625556 -0.977210 -1.367323   \n",
      "4623  0.609399  0.111044 -0.073307  ... -0.538449 -1.469757 -0.854643   \n",
      "7293  3.065958  1.363856  0.845020  ... -0.881107 -1.302352 -0.383943   \n",
      "1289 -1.677737 -1.116786 -1.472748  ... -0.556806 -0.797495 -1.713659   \n",
      "\n",
      "        79- 83    80- 81    80- 82    80- 83    81- 82    81- 83    82- 83  \n",
      "1735 -1.930119 -1.595421 -1.541893 -2.309312 -2.592940 -4.158013 -8.892309  \n",
      "3501 -1.832751 -1.641505 -1.766831 -2.047997 -2.388741 -3.155973 -7.829366  \n",
      "5902 -0.769822 -1.183062 -0.806910 -1.107195  0.152122 -1.058987 -6.455616  \n",
      "2961 -0.988934 -0.677033 -1.190540 -1.587792 -1.658629 -2.978683 -7.994656  \n",
      "2537 -0.839715 -0.851352 -1.192270 -1.309346 -1.723567 -2.516902 -7.297043  \n",
      "...        ...       ...       ...       ...       ...       ...       ...  \n",
      "3441 -1.620830 -1.251601 -2.099911 -2.422809 -2.621466 -3.690781 -8.110121  \n",
      "1344 -1.626618 -1.556728 -1.915523 -2.394205 -2.332033 -3.610348 -7.932380  \n",
      "4623 -1.442940 -1.674888 -1.038901 -1.603278 -0.956266 -2.279798 -7.697538  \n",
      "7293 -0.793779 -1.326634 -0.207075 -0.453334  0.346079 -0.135255 -4.709358  \n",
      "1289 -1.871482 -1.388768 -2.143295 -2.562187 -2.643398 -3.890483 -8.586171  \n",
      "\n",
      "[6000 rows x 820 columns]\n"
     ]
    }
   ],
   "source": [
    "#print(x_reconst)\n",
    "dio3 = train1 - train1_reconst\n",
    "print(dio3)\n",
    "# saving the dataframe\n",
    "dio3.to_csv('dio_mutantrain.csv', header=True, sep=',', index=None)"
   ]
  },
  {
   "cell_type": "code",
   "execution_count": 25,
   "id": "7fab12f9",
   "metadata": {},
   "outputs": [],
   "source": [
    "npdio3=dio3.to_numpy()"
   ]
  },
  {
   "cell_type": "code",
   "execution_count": 26,
   "id": "f6a9bc1f",
   "metadata": {},
   "outputs": [
    {
     "data": {
      "image/png": "[encoded data removed]",
      "text/plain": [
       "<Figure size 432x288 with 1 Axes>"
      ]
     },
     "metadata": {
      "needs_background": "light"
     },
     "output_type": "display_data"
    }
   ],
   "source": [
    "dfdio3 = npdio3.flatten()\n",
    "plt.hist(dfdio3, weights=np.ones_like(dfdio3) / len(dfdio3), bins=np.arange(-10.5, 10.5), alpha=0.9, rwidth=0.5)\n",
    "plt.savefig(\"mutanttrain_dio.png\")"
   ]
  },
  {
   "cell_type": "code",
   "execution_count": null,
   "id": "df1e7f4c",
   "metadata": {},
   "outputs": [],
   "source": []
  }
 ],
 "metadata": {
  "kernelspec": {
   "display_name": "Python [conda env:base] *",
   "language": "python",
   "name": "conda-base-py"
  },
  "language_info": {
   "codemirror_mode": {
    "name": "ipython",
    "version": 3
   },
   "file_extension": ".py",
   "mimetype": "text/x-python",
   "name": "python",
   "nbconvert_exporter": "python",
   "pygments_lexer": "ipython3",
   "version": "3.12.7"
  }
 },
 "nbformat": 4,
 "nbformat_minor": 5
}
